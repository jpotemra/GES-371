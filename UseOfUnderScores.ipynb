{
 "cells": [
  {
   "cell_type": "raw",
   "metadata": {},
   "source": [
    "---\n",
    "title: Use of underscores in python\n",
    "author: Jim Potemra\n",
    "date: Feb 2025\n",
    "format:\n",
    "  html:\n",
    "    toc-location: left\n",
    "    toc: true\n",
    "    code-fold: true\n",
    "    mainfont: 'Calisto MT'\n",
    "    fontcolor: '#2F539B'\n",
    "    backgroundcolor: 'azure'\n",
    "    fontsize: 1.2rem\n",
    "---"
   ]
  },
  {
   "cell_type": "markdown",
   "metadata": {},
   "source": [
    "The underscore (\\_) is a unique character in python and used for various things.  These are described in more detail here."
   ]
  },
  {
   "cell_type": "markdown",
   "metadata": {},
   "source": [
    "## 1. As used in interpreter\n",
    "Python automatically stores the value of the last expression in the interpreter to a variable called \"_\" "
   ]
  },
  {
   "cell_type": "code",
   "execution_count": 4,
   "metadata": {},
   "outputs": [
    {
     "data": {
      "text/plain": [
       "9"
      ]
     },
     "execution_count": 4,
     "metadata": {},
     "output_type": "execute_result"
    }
   ],
   "source": [
    "5 + 4"
   ]
  },
  {
   "cell_type": "code",
   "execution_count": 5,
   "metadata": {},
   "outputs": [
    {
     "data": {
      "text/plain": [
       "15"
      ]
     },
     "execution_count": 5,
     "metadata": {},
     "output_type": "execute_result"
    }
   ],
   "source": [
    "_ + 6"
   ]
  },
  {
   "cell_type": "code",
   "execution_count": 6,
   "metadata": {},
   "outputs": [
    {
     "data": {
      "text/plain": [
       "15"
      ]
     },
     "execution_count": 6,
     "metadata": {},
     "output_type": "execute_result"
    }
   ],
   "source": [
    "_"
   ]
  },
  {
   "cell_type": "markdown",
   "metadata": {},
   "source": [
    "## 2. Ignoring values\n",
    "Underscore is also used to ignore values. If you don't want to use specific values while unpacking, just assign that value to underscore(\\_).\n"
   ]
  },
  {
   "cell_type": "code",
   "execution_count": 7,
   "metadata": {},
   "outputs": [
    {
     "name": "stdout",
     "output_type": "stream",
     "text": [
      "1 3\n"
     ]
    }
   ],
   "source": [
    "## ignoring a value\n",
    "a, _, b = (1, 2, 3) # a = 1, b = 3\n",
    "print(a, b)"
   ]
  },
  {
   "cell_type": "code",
   "execution_count": 8,
   "metadata": {},
   "outputs": [
    {
     "name": "stdout",
     "output_type": "stream",
     "text": [
      "7 1\n"
     ]
    }
   ],
   "source": [
    "## ignoring multiple values\n",
    "## *(variable) used to assign multiple value to a variable as list while unpacking\n",
    "## it's called \"Extended Unpacking\", only available in Python 3.x\n",
    "a, *_, b = (7, 6, 5, 4, 3, 2, 1)\n",
    "print(a, b)"
   ]
  },
  {
   "cell_type": "markdown",
   "metadata": {},
   "source": [
    "## 3. Use in loops\n",
    "You can use underscore as a variable in looping. "
   ]
  },
  {
   "cell_type": "code",
   "execution_count": 9,
   "metadata": {},
   "outputs": [
    {
     "name": "stdout",
     "output_type": "stream",
     "text": [
      "0\n",
      "1\n",
      "2\n",
      "3\n",
      "4\n"
     ]
    }
   ],
   "source": [
    "## lopping ten times using _\n",
    "for _ in range(5):\n",
    "    print(_)"
   ]
  },
  {
   "cell_type": "code",
   "execution_count": 10,
   "metadata": {},
   "outputs": [
    {
     "name": "stdout",
     "output_type": "stream",
     "text": [
      "Python\n",
      "JS\n",
      "PHP\n",
      "Java\n"
     ]
    }
   ],
   "source": [
    "## iterating over a list using _\n",
    "## you can use _ same as a variable\n",
    "languages = [\"Python\", \"JS\", \"PHP\", \"Java\"]\n",
    "for _ in languages:\n",
    "    print(_)"
   ]
  },
  {
   "cell_type": "code",
   "execution_count": 11,
   "metadata": {},
   "outputs": [
    {
     "name": "stdout",
     "output_type": "stream",
     "text": [
      "5 6 7 8 9 "
     ]
    }
   ],
   "source": [
    "_ = 5\n",
    "while _ < 10:\n",
    "    print(_, end = ' ') # default value of 'end' id '\\n' in python. we're changing it to space\n",
    "    _ += 1"
   ]
  },
  {
   "cell_type": "markdown",
   "metadata": {},
   "source": [
    "## 4. Separating Digits of Numbers\n",
    "If you have a number with many digits, you can separate the group of digits as you like for better understanding.\n",
    "\n",
    "Ex:- million = 1_000_000\n",
    "\n",
    "Next, you can also use underscore(\\_) to separate the binary, octal or hex parts of numbers.\n",
    "\n",
    "Ex:- binary = 0b_0010, octa = 0o_64, hexa = 0x_23_ab\n"
   ]
  },
  {
   "cell_type": "code",
   "execution_count": 12,
   "metadata": {},
   "outputs": [
    {
     "name": "stdout",
     "output_type": "stream",
     "text": [
      "1000000\n",
      "2\n",
      "52\n",
      "9131\n"
     ]
    }
   ],
   "source": [
    "## different number systems\n",
    "## you can also check whether they are correct or not by coverting them into integer using \"int\" method\n",
    "million = 1_000_000\n",
    "binary = 0b_0010\n",
    "octa = 0o_64\n",
    "hexa = 0x_23_ab\n",
    "\n",
    "print(million)\n",
    "print(binary)\n",
    "print(octa)\n",
    "print(hexa)"
   ]
  },
  {
   "cell_type": "markdown",
   "metadata": {},
   "source": [
    "##  5. Naming\n",
    "Underscore can be used to name variables, functions and classes, etc..,\n",
    "\n",
    "    Single Pre Underscore:- _variable\n",
    "\n",
    "    Single Post Underscore:- variable_\n",
    "\n",
    "    Double Pre Underscores:- __variable\n",
    "\n",
    "    Double Pre and Post Underscores:- __variable__\n",
    "### 5a. single, pre-underscore"
   ]
  },
  {
   "cell_type": "code",
   "execution_count": 13,
   "metadata": {},
   "outputs": [
    {
     "name": "stdout",
     "output_type": "stream",
     "text": [
      "datacamp\n",
      "7\n"
     ]
    }
   ],
   "source": [
    "# _single_pre_underscore, used for internal use.\n",
    "class Test:\n",
    "    def __init__(self):\n",
    "        self.name = \"datacamp\"\n",
    "        self._num = 7\n",
    "\n",
    "obj = Test()\n",
    "print(obj.name)\n",
    "print(obj._num)"
   ]
  },
  {
   "cell_type": "code",
   "execution_count": null,
   "metadata": {},
   "outputs": [],
   "source": [
    "'''\n",
    "Single pre-underscore doesn't stop you from accessing the single pre underscore variable.\n",
    "But, single pre underscore effects the names that are imported from the module.\n",
    "\n",
    "For example, the following code in the my_funtions file\n",
    "\n",
    "## filename:- my_functions.py\n",
    "def func():\n",
    "    return \"datacamp\"\n",
    "def _private_func():\n",
    "    return 7\n",
    "\n",
    "Now, if you import all the methods and names from my_functions.py, Python doesn't import the names \n",
    "that start with a single pre underscore.\n",
    "\n",
    ">>> from my_functions import *\n",
    ">>> func()\n",
    "'datacamp'\n",
    ">>> _private_func()\n",
    "Traceback (most recent call last):\n",
    "  File \"<stdin>\", line 1, in <module>\n",
    "NameError: name '_private_func' is not defined\n",
    "\n",
    "You avoid the above error by importing the module normally.\n",
    "\n",
    ">>> import my_functions\n",
    ">>> my_functions.func()\n",
    "'datacamp'\n",
    ">>> my_functions._private_func()\n",
    "7\n"
   ]
  },
  {
   "cell_type": "markdown",
   "metadata": {},
   "source": [
    "### 5b. single, post-underscore"
   ]
  },
  {
   "cell_type": "code",
   "execution_count": null,
   "metadata": {},
   "outputs": [],
   "source": [
    "# single_postunderscore are used to use Python Keywords as a variable, \n",
    "# function or class names\n",
    "'''\n",
    "def function(class):\n",
    "    File \"<stdin>\", line 1\n",
    "    def function(class):\n",
    "                 ^\n",
    "SyntaxError: invalid syntax\n",
    "def function(class_):\n",
    "...     pass\n",
    "...\n",
    "'''"
   ]
  },
  {
   "cell_type": "markdown",
   "metadata": {},
   "source": [
    "### 5c. double, pre-underscore"
   ]
  },
  {
   "cell_type": "code",
   "execution_count": 13,
   "metadata": {},
   "outputs": [
    {
     "data": {
      "text/plain": [
       "['_Sample__c',\n",
       " '__class__',\n",
       " '__delattr__',\n",
       " '__dict__',\n",
       " '__dir__',\n",
       " '__doc__',\n",
       " '__eq__',\n",
       " '__format__',\n",
       " '__ge__',\n",
       " '__getattribute__',\n",
       " '__getstate__',\n",
       " '__gt__',\n",
       " '__hash__',\n",
       " '__init__',\n",
       " '__init_subclass__',\n",
       " '__le__',\n",
       " '__lt__',\n",
       " '__module__',\n",
       " '__ne__',\n",
       " '__new__',\n",
       " '__reduce__',\n",
       " '__reduce_ex__',\n",
       " '__repr__',\n",
       " '__setattr__',\n",
       " '__sizeof__',\n",
       " '__str__',\n",
       " '__subclasshook__',\n",
       " '__weakref__',\n",
       " '_b',\n",
       " 'a']"
      ]
     },
     "execution_count": 13,
     "metadata": {},
     "output_type": "execute_result"
    }
   ],
   "source": [
    "# Double Pre Underscore tells the Python interpreter to rewrite the attribute \n",
    "# name of subclasses to avoid naming conflicts.\n",
    "class Sample():\n",
    "\n",
    "    def __init__(self):\n",
    "        self.a = 1\n",
    "        self._b = 2\n",
    "        self.__c = 3\n",
    "obj1 = Sample()\n",
    "dir(obj1)"
   ]
  },
  {
   "cell_type": "markdown",
   "metadata": {},
   "source": [
    "The above code returns all the attributes of the class object. Let's see our variables in the attributes list.\n",
    "\n",
    "self.a variable appears in the list without any change.\n",
    "\n",
    "self.\\_b Variable also appears in the list without any change. As we discussed above, it's just for the internal use.  Is there self.\\_\\_c variable in the list?\n",
    "\n",
    "If you carefully look at the attributes list, you will find an attribute called \\_Sample\\_\\_c. This is the name mangling. It is to avoid the overriding of the variable in subclasses.\n",
    "Let's create another class by inheriting Sample class to see how overriding works.\n"
   ]
  },
  {
   "cell_type": "code",
   "execution_count": null,
   "metadata": {},
   "outputs": [],
   "source": [
    "class SecondClass(Sample):\n",
    "\n",
    "    def __init__(self):\n",
    "        super().__init__()\n",
    "        self.a = \"overridden\"\n",
    "        self._b = \"overridden\"\n",
    "        self.__c = \"overridden\"\n",
    "obj2 = SecondClass()\n",
    "print(obj2.a)\n",
    "print(obj2._b)\n",
    "print(obj2.__c)"
   ]
  },
  {
   "cell_type": "markdown",
   "metadata": {},
   "source": [
    "You can access the Double Pre Underscore variables using methods in the class. "
   ]
  },
  {
   "cell_type": "code",
   "execution_count": null,
   "metadata": {},
   "outputs": [],
   "source": [
    "class SimpleClass:\n",
    "\n",
    "    def __init__(self):\n",
    "        self.__datacamp = \"Excellent\"\n",
    "\n",
    "    def get_datacamp(self):\n",
    "        return self.__datacamp\n",
    "\n",
    "obj = SimpleClass()\n",
    "print(obj.get_datacamp()) ## it prints the \"Excellent\" which is a __var\n",
    "print(obj.__datacamp)     ## here, we get an error as mentioned before. It changes the name of the variable"
   ]
  },
  {
   "cell_type": "markdown",
   "metadata": {},
   "source": [
    "You can also use the Double Pre Underscore for the method names."
   ]
  },
  {
   "cell_type": "code",
   "execution_count": null,
   "metadata": {},
   "outputs": [],
   "source": [
    "class SimpleClass:\n",
    "\n",
    "    def __datacamp(self):\n",
    "        return \"datacamp\"\n",
    "\n",
    "    def call_datacamp(self):\n",
    "        return self.__datacamp()\n",
    "\n",
    "obj = SimpleClass()\n",
    "print(obj.call_datacamp()) ## same as above it returns the Dobule pre underscore method\n",
    "print(obj.__datacamp())    ## we get an error here"
   ]
  },
  {
   "cell_type": "markdown",
   "metadata": {},
   "source": [
    "Let's look at the name mangling in another way. First, we will create a variable with name \\_SimpleClass\\_\\_name, and then we will try to access that variable using Doble Pre Underscore name.\n"
   ]
  },
  {
   "cell_type": "code",
   "execution_count": null,
   "metadata": {},
   "outputs": [],
   "source": [
    "_SimpleClass__name = \"datacamp\"\n",
    "\n",
    "class SimpleClass:\n",
    "\n",
    "    def return_name(self):\n",
    "        return __name\n",
    "\n",
    "obj = SimpleClass()\n",
    "print(obj.return_name()) ## it prints the __name variable"
   ]
  },
  {
   "cell_type": "markdown",
   "metadata": {},
   "source": [
    "### 5d.  double pre- and post-underscore\n",
    "In Python, you will find different names which start and end with the double underscore. They are called as magic methods or dunder methods.\n",
    "\n",
    "The \n",
    "\n",
    "      if __name__ == \"__main__\" \n",
    "\n",
    "idiom is a Python construct that helps control code execution in scripts. It’s a conditional statement that allows you to define code that runs only when the file is executed as a script, not when it’s imported as a module.\n",
    "\n",
    "When you run a Python script, the interpreter assigns the value \"\\_\\_main\\_\\_\" to the \\_\\_name\\_\\_ variable. If Python imports the code as a module, then it sets \\_\\_name\\_\\_ to the module’s name instead. By encapsulating code within if \\_\\_name\\_\\_ == \"\\_\\_main\\_\\_\", you can ensure that it only runs in the intended context.\n"
   ]
  },
  {
   "cell_type": "code",
   "execution_count": 14,
   "metadata": {},
   "outputs": [
    {
     "data": {
      "text/plain": [
       "7"
      ]
     },
     "execution_count": 14,
     "metadata": {},
     "output_type": "execute_result"
    }
   ],
   "source": [
    "class Sample():\n",
    "    def __init__(self):\n",
    "        self.__num__=7\n",
    "obj = Sample()\n",
    "obj.__num__"
   ]
  },
  {
   "cell_type": "markdown",
   "metadata": {},
   "source": [
    "Note that \\_\\_init\\_\\_ is the class constructor and \\_\\_main\\_\\_ is used for :\n",
    "\n",
    "if \\_\\_name\\_\\_ == \"\\_\\_main\\_\\_\":  #runs as program\n",
    "else:    #runs as module\n"
   ]
  },
  {
   "cell_type": "code",
   "execution_count": null,
   "metadata": {},
   "outputs": [],
   "source": []
  }
 ],
 "metadata": {
  "jupytext": {
   "split_at_heading": true
  },
  "kernelspec": {
   "display_name": "Python 3 (ipykernel)",
   "language": "python",
   "name": "python3"
  },
  "language_info": {
   "codemirror_mode": {
    "name": "ipython",
    "version": 3
   },
   "file_extension": ".py",
   "mimetype": "text/x-python",
   "name": "python",
   "nbconvert_exporter": "python",
   "pygments_lexer": "ipython3",
   "version": "3.11.5"
  },
  "toc": {
   "base_numbering": 1,
   "nav_menu": {},
   "number_sections": true,
   "sideBar": true,
   "skip_h1_title": false,
   "title_cell": "Table of Contents",
   "title_sidebar": "Contents",
   "toc_cell": false,
   "toc_position": {},
   "toc_section_display": true,
   "toc_window_display": false
  }
 },
 "nbformat": 4,
 "nbformat_minor": 2
}
