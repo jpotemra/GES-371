{
 "cells": [
  {
   "cell_type": "raw",
   "metadata": {},
   "source": [
    "---\n",
    "title: \"Accessing climate indices: ENSO and PDO\"\n",
    "author: Jim Potemra\n",
    "date: Jun 2025\n",
    "format:\n",
    "  html:\n",
    "    toc-location: left\n",
    "    toc: true\n",
    "    code-fold: true\n",
    "    mainfont: 'Calisto MT'\n",
    "    fontcolor: '#2F539B'\n",
    "    backgroundcolor: 'azure'\n",
    "    fontsize: 1.2rem\n",
    "---"
   ]
  },
  {
   "cell_type": "markdown",
   "id": "fc7f9cf1",
   "metadata": {},
   "source": [
    "\n",
    "----\n",
    "This notebook demonstrates how to get some climate indices such as the Southern Oscillation Index (SOI) used to monitor El-Nino/Southern Oscillation (ENSO) and Pacific Decadal Oscillation (PDO) variability.\n",
    "\n",
    "The data are read from the NOAA PSL web site."
   ]
  },
  {
   "cell_type": "code",
   "execution_count": 1,
   "id": "326df838",
   "metadata": {},
   "outputs": [],
   "source": [
    "# load packages\n",
    "import pandas as pd"
   ]
  },
  {
   "cell_type": "code",
   "execution_count": 2,
   "id": "73a9bfc4",
   "metadata": {},
   "outputs": [
    {
     "name": "stderr",
     "output_type": "stream",
     "text": [
      "/var/folders/00/m_p76xcd75jg4kx7_wyjwd500000gn/T/ipykernel_47354/3016456924.py:19: FutureWarning: The 'delim_whitespace' keyword in pd.read_csv is deprecated and will be removed in a future version. Use ``sep='\\s+'`` instead\n",
      "  soi = pd.read_csv(soi_url, skiprows = 1, header = None, delim_whitespace = True,\n",
      "/var/folders/00/m_p76xcd75jg4kx7_wyjwd500000gn/T/ipykernel_47354/3016456924.py:21: FutureWarning: The 'delim_whitespace' keyword in pd.read_csv is deprecated and will be removed in a future version. Use ``sep='\\s+'`` instead\n",
      "  pdo = pd.read_csv(pdo_url, skiprows = 1, header = None, delim_whitespace = True,\n"
     ]
    }
   ],
   "source": [
    "# read data from PSL \n",
    "\n",
    "# data are here:\n",
    "#soi_url = 'https://psl.noaa.gov/gcos_wgsp/Timeseries/Data/soi.long.data'\n",
    "#pdo_url = 'https://psl.noaa.gov/gcos_wgsp/Timeseries/Data/pdo.long.data'\n",
    "soi_url = 'https://psl.noaa.gov/data/timeseries/month/data/nino34.long.anom.data'\n",
    "pdo_url = 'https://psl.noaa.gov/data/timeseries/month/data/pdo.timeseries.sstens.data'\n",
    "# data are listed as each year in a separate row, each month of the \n",
    "#   year in a separate column; here we define the column headings to\n",
    "#   match this\n",
    "col_names = ['year','Jan','Feb','Mar','Apr','May','Jun','Jul','Aug','Sep','Oct','Nov','Dec']\n",
    "\n",
    "# read data\n",
    "#   skiprows = 1: skip top line (has year range)\n",
    "#   header = None: no header\n",
    "#   delim_whitespace = True: columns separated by white space\n",
    "#   names = col_names: use the column headings defined above\n",
    "#   on_bad_lines = 'skip': use this to ignore lines that don't have enough columns\n",
    "soi = pd.read_csv(soi_url, skiprows = 1, header = None, delim_whitespace = True,\n",
    "                  names = col_names, on_bad_lines = 'skip')\n",
    "pdo = pd.read_csv(pdo_url, skiprows = 1, header = None, delim_whitespace = True,\n",
    "                  names = col_names, on_bad_lines = 'skip')\n",
    "\n",
    "# drop the last 9 lines (these have metadata we don't need\n",
    "#   and the partial data for 2024)\n",
    "soi.drop(soi.tail(9).index,inplace=True)\n",
    "pdo.drop(pdo.tail(9).index,inplace=True)"
   ]
  },
  {
   "cell_type": "code",
   "execution_count": 3,
   "id": "95703b86",
   "metadata": {},
   "outputs": [],
   "source": [
    "# reset dataframe to be continuous (each row a different month)\n",
    "#   At this point the dataFrame has each year as a row, each month\n",
    "#   of that year as a different column.  Instead, we want to have\n",
    "#   just two columns, first one with the continuous date and the\n",
    "#   second with the value for that month\n",
    "\n",
    "A = soi.set_index('year')\n",
    "B = A.stack().reset_index()\n",
    "B.columns = ['year','month','SOI']\n",
    "\n",
    "# Now convert year/month to a proper date\n",
    "B['day'] = 15\n",
    "B['month'] = pd.to_datetime(B.month,format='%b').dt.month\n",
    "B['date'] = pd.to_datetime(B[['year','month','day']])\n",
    "B.drop(columns = ['year','month','day'], inplace = True)\n",
    "soi_new = B.reindex(columns = ['date','SOI'])\n",
    "\n",
    "A = pdo.set_index('year')\n",
    "B = A.stack().reset_index()\n",
    "B.columns = ['year','month','PDO']\n",
    "\n",
    "# Now convert year/month to a proper date\n",
    "B['day'] = 15\n",
    "B['month'] = pd.to_datetime(B.month,format='%b').dt.month\n",
    "B['date'] = pd.to_datetime(B[['year','month','day']])\n",
    "B.drop(columns = ['year','month','day'], inplace = True)\n",
    "pdo_new = B.reindex(columns = ['date','PDO'])"
   ]
  },
  {
   "cell_type": "code",
   "execution_count": 4,
   "id": "24980b27",
   "metadata": {},
   "outputs": [
    {
     "data": {
      "text/html": [
       "<div>\n",
       "<style scoped>\n",
       "    .dataframe tbody tr th:only-of-type {\n",
       "        vertical-align: middle;\n",
       "    }\n",
       "\n",
       "    .dataframe tbody tr th {\n",
       "        vertical-align: top;\n",
       "    }\n",
       "\n",
       "    .dataframe thead th {\n",
       "        text-align: right;\n",
       "    }\n",
       "</style>\n",
       "<table border=\"1\" class=\"dataframe\">\n",
       "  <thead>\n",
       "    <tr style=\"text-align: right;\">\n",
       "      <th></th>\n",
       "      <th>date</th>\n",
       "      <th>PDO</th>\n",
       "    </tr>\n",
       "  </thead>\n",
       "  <tbody>\n",
       "    <tr>\n",
       "      <th>0</th>\n",
       "      <td>1870-01-15</td>\n",
       "      <td>0.085</td>\n",
       "    </tr>\n",
       "    <tr>\n",
       "      <th>1</th>\n",
       "      <td>1870-02-15</td>\n",
       "      <td>0.017</td>\n",
       "    </tr>\n",
       "    <tr>\n",
       "      <th>2</th>\n",
       "      <td>1870-03-15</td>\n",
       "      <td>-0.068</td>\n",
       "    </tr>\n",
       "    <tr>\n",
       "      <th>3</th>\n",
       "      <td>1870-04-15</td>\n",
       "      <td>-0.593</td>\n",
       "    </tr>\n",
       "    <tr>\n",
       "      <th>4</th>\n",
       "      <td>1870-05-15</td>\n",
       "      <td>-0.587</td>\n",
       "    </tr>\n",
       "  </tbody>\n",
       "</table>\n",
       "</div>"
      ],
      "text/plain": [
       "        date     PDO\n",
       "0 1870-01-15   0.085\n",
       "1 1870-02-15   0.017\n",
       "2 1870-03-15  -0.068\n",
       "3 1870-04-15  -0.593\n",
       "4 1870-05-15  -0.587"
      ]
     },
     "execution_count": 4,
     "metadata": {},
     "output_type": "execute_result"
    }
   ],
   "source": [
    "pdo_new.head()"
   ]
  },
  {
   "cell_type": "code",
   "execution_count": 5,
   "id": "18622406",
   "metadata": {},
   "outputs": [
    {
     "data": {
      "text/html": [
       "<div>\n",
       "<style scoped>\n",
       "    .dataframe tbody tr th:only-of-type {\n",
       "        vertical-align: middle;\n",
       "    }\n",
       "\n",
       "    .dataframe tbody tr th {\n",
       "        vertical-align: top;\n",
       "    }\n",
       "\n",
       "    .dataframe thead th {\n",
       "        text-align: right;\n",
       "    }\n",
       "</style>\n",
       "<table border=\"1\" class=\"dataframe\">\n",
       "  <thead>\n",
       "    <tr style=\"text-align: right;\">\n",
       "      <th></th>\n",
       "      <th>date</th>\n",
       "      <th>SOI</th>\n",
       "    </tr>\n",
       "  </thead>\n",
       "  <tbody>\n",
       "    <tr>\n",
       "      <th>0</th>\n",
       "      <td>1870-01-15</td>\n",
       "      <td>-1.00</td>\n",
       "    </tr>\n",
       "    <tr>\n",
       "      <th>1</th>\n",
       "      <td>1870-02-15</td>\n",
       "      <td>-1.20</td>\n",
       "    </tr>\n",
       "    <tr>\n",
       "      <th>2</th>\n",
       "      <td>1870-03-15</td>\n",
       "      <td>-0.83</td>\n",
       "    </tr>\n",
       "    <tr>\n",
       "      <th>3</th>\n",
       "      <td>1870-04-15</td>\n",
       "      <td>-0.81</td>\n",
       "    </tr>\n",
       "    <tr>\n",
       "      <th>4</th>\n",
       "      <td>1870-05-15</td>\n",
       "      <td>-1.27</td>\n",
       "    </tr>\n",
       "  </tbody>\n",
       "</table>\n",
       "</div>"
      ],
      "text/plain": [
       "        date    SOI\n",
       "0 1870-01-15  -1.00\n",
       "1 1870-02-15  -1.20\n",
       "2 1870-03-15  -0.83\n",
       "3 1870-04-15  -0.81\n",
       "4 1870-05-15  -1.27"
      ]
     },
     "execution_count": 5,
     "metadata": {},
     "output_type": "execute_result"
    }
   ],
   "source": [
    "soi_new.head()"
   ]
  },
  {
   "cell_type": "code",
   "execution_count": null,
   "id": "aef0b8da",
   "metadata": {},
   "outputs": [],
   "source": []
  }
 ],
 "metadata": {
  "kernelspec": {
   "display_name": "Python 3 (ipykernel)",
   "language": "python",
   "name": "python3"
  },
  "language_info": {
   "codemirror_mode": {
    "name": "ipython",
    "version": 3
   },
   "file_extension": ".py",
   "mimetype": "text/x-python",
   "name": "python",
   "nbconvert_exporter": "python",
   "pygments_lexer": "ipython3",
   "version": "3.11.5"
  }
 },
 "nbformat": 4,
 "nbformat_minor": 5
}
