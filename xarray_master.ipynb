{
 "cells": [
  {
   "cell_type": "raw",
   "metadata": {},
   "source": [
    "---\n",
    "title: Working with xarray\n",
    "author: Jim Potemra\n",
    "date: Feb 2025\n",
    "format:\n",
    "  html:\n",
    "    toc-location: left\n",
    "    toc: true\n",
    "    code-fold: true\n",
    "    mainfont: 'Calisto MT'\n",
    "    fontcolor: '#2F539B'\n",
    "    backgroundcolor: 'azure'\n",
    "    fontsize: 1.2rem\n",
    "---"
   ]
  },
  {
   "cell_type": "markdown",
   "id": "145c8e56",
   "metadata": {},
   "source": [
    "## Read the data"
   ]
  },
  {
   "cell_type": "code",
   "execution_count": 1,
   "id": "c837335e",
   "metadata": {},
   "outputs": [
    {
     "name": "stderr",
     "output_type": "stream",
     "text": [
      "/Users/jimp/anaconda3/lib/python3.11/site-packages/xarray/coding/times.py:206: SerializationWarning: Ambiguous reference date string: 1-1-1 00:00:0.0. The first value is assumed to be the year hence will be padded with zeros to remove the ambiguity (the padded reference date string is: 0001-1-1 00:00:0.0). To remove this message, remove the ambiguity by padding your reference date strings with zeros.\n",
      "  ref_date = _ensure_padded_year(ref_date)\n",
      "/Users/jimp/anaconda3/lib/python3.11/site-packages/xarray/coding/times.py:358: CFWarning: this date/calendar/year zero convention is not supported by CF\n",
      "  cftime.num2date(num_dates, units, calendar, only_use_cftime_datetimes=True)\n",
      "/var/folders/00/m_p76xcd75jg4kx7_wyjwd500000gn/T/ipykernel_50438/2122638687.py:3: SerializationWarning: Unable to decode time axis into full numpy.datetime64 objects, continuing using cftime.datetime objects instead, reason: dates prior reform date (1582-10-15). To silence this warning specify 'use_cftime=True'.\n",
      "  data = xr.open_dataset(url)\n"
     ]
    }
   ],
   "source": [
    "import xarray as xr\n",
    "url = 'http://apdrc.soest.hawaii.edu:80/dods/public_data/WOA/WOA18/1_deg/monthly/2005-2017/temp'\n",
    "data = xr.open_dataset(url)"
   ]
  },
  {
   "cell_type": "markdown",
   "id": "3443faae",
   "metadata": {},
   "source": [
    "## Explore the data"
   ]
  },
  {
   "cell_type": "code",
   "execution_count": 2,
   "id": "622e9ba2",
   "metadata": {},
   "outputs": [
    {
     "data": {
      "text/plain": [
       "('time', 'lev', 'lat', 'lon')"
      ]
     },
     "execution_count": 2,
     "metadata": {},
     "output_type": "execute_result"
    }
   ],
   "source": [
    "# 1. show the data\n",
    "#data\n",
    "#data.tan\n",
    "#data['tan']\n",
    "# 2. show the variables\n",
    "#data.variables\n",
    "# 3. show the coordinates\n",
    "#data.coords\n",
    "#data.tan.coords\n",
    "#data['tan'].coords\n",
    "# 4. show the dimensions\n",
    "#data.dims\n",
    "#data.tan.dims\n",
    "data['tan'].dims\n",
    "# 5. show the attributes\n",
    "#data.attrs\n",
    "#data.tan.attrs\n",
    "#data['tan'].attrs"
   ]
  },
  {
   "cell_type": "markdown",
   "id": "837ae3eb",
   "metadata": {},
   "source": [
    "## Subset the data\n",
    "In total, xarray supports four different kinds of indexing, as described below and summarized in this table:\n",
    "\n",
    "| Dimension lookup | Index lookup | Dataset syntax    | DataArray syntax   |\n",
    "| -----------------|--------------|-------------------|--------------------|\n",
    "| Positional       | By integer   | not available     | da[:, 0]           |\n",
    "| Positional       | By label     | not available     | da.loc[:, 'IA']    |\n",
    "| By name          | By integer   | ds.isel(space=0)  | da.isel(space=0)   |\n",
    "|                  |              | ds[dict(space=0)] | da[dict(space=0)]  |\n",
    "| By name          | By label     | ds.sel(space='IA')| da.sel(space='IA') |\n",
    "|                  |              | ds.loc[dict(space='IA')] | ds.loc[dict(space='IA')] |\n"
   ]
  },
  {
   "cell_type": "code",
   "execution_count": 3,
   "id": "163ed082",
   "metadata": {},
   "outputs": [],
   "source": [
    "# As a check, here is an example:\n",
    "# lon = -157.5,  index is 22\n",
    "# lat = 20.5,    index is 110\n",
    "# level = 1500m, index is 56\n",
    "# time = April,  index is 3\n",
    "# tan[22,110,56,3] = 2.87551\n",
    "i, j, k, t = 22, 110, 56, 3\n",
    "\n",
    "# 1.\n",
    "#data.tan[t,k,j,i].values\n",
    "# 2.\n",
    "#A = data.time[t].values\n",
    "#data.tan.loc[A,1500,20.5,-157.5].values\n",
    "# 3. \n",
    "#data.tan.isel(time=t,lev=k,lat=j,lon=i).values\n",
    "# 4. \n",
    "#data.tan.sel(time=A,lev=1500,lat=20.5,lon=-157.5).values\n",
    "\n",
    "#data.tan.sel(lat=20,method='nearest')\n",
    "#data.tan.sel(lat=slice(20,40))"
   ]
  },
  {
   "cell_type": "code",
   "execution_count": null,
   "id": "c1175230",
   "metadata": {},
   "outputs": [],
   "source": []
  }
 ],
 "metadata": {
  "kernelspec": {
   "display_name": "Python 3 (ipykernel)",
   "language": "python",
   "name": "python3"
  },
  "language_info": {
   "codemirror_mode": {
    "name": "ipython",
    "version": 3
   },
   "file_extension": ".py",
   "mimetype": "text/x-python",
   "name": "python",
   "nbconvert_exporter": "python",
   "pygments_lexer": "ipython3",
   "version": "3.11.5"
  }
 },
 "nbformat": 4,
 "nbformat_minor": 5
}
